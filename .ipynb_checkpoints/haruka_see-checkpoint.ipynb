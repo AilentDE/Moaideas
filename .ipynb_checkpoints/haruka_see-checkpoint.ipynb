{
 "cells": [
  {
   "cell_type": "code",
   "execution_count": null,
   "metadata": {},
   "outputs": [],
   "source": [
    "import json\n",
    "import requests\n",
    "import time\n",
    "from datetime import datetime\n",
    "\n",
    "with open('../Secret_file.json',\"r\") as f:\n",
    "    ks_token = json.load(f)['Slack_API']['KS']\n",
    "with open('../Secret_file.json',\"r\") as f:\n",
    "    YT_token = json.load(f)['Youtube_API']"
   ]
  },
  {
   "cell_type": "code",
   "execution_count": null,
   "metadata": {},
   "outputs": [],
   "source": [
    "def Bot_Message(channel, text):\n",
    "    payload={\n",
    "        \"token\":ks_token,\n",
    "        \"channel\":channel,\n",
    "        \"text\":'{}'.format(text)} \n",
    "    r = requests.post(\"\thttps://slack.com/api/chat.postMessage\", params=payload) "
   ]
  },
  {
   "cell_type": "code",
   "execution_count": null,
   "metadata": {
    "scrolled": true
   },
   "outputs": [],
   "source": [
    "'''\n",
    "時間阻斷器\n",
    "'''\n",
    "def time_start(hour):\n",
    "    # 時\n",
    "    while True:\n",
    "        if datetime.now().hour == (hour-1):\n",
    "            break\n",
    "        else:\n",
    "            time.sleep(3600)\n",
    "            continue\n",
    "\n",
    "    # 分\n",
    "    while True:\n",
    "        if datetime.now().minute == 59:\n",
    "            break\n",
    "        else:\n",
    "            time.sleep(60)\n",
    "            continue\n",
    "\n",
    "    # 秒\n",
    "    while True:\n",
    "        if datetime.now().second >= 50:\n",
    "            break\n",
    "        else:\n",
    "            time.sleep(5)\n",
    "            continue\n",
    "\n",
    "    while True:\n",
    "        if datetime.now().hour == hour:\n",
    "            break\n",
    "        else:\n",
    "            continue\n",
    "time_start(9)\n",
    "print('執行時間：\\n', datetime.now())"
   ]
  },
  {
   "cell_type": "code",
   "execution_count": null,
   "metadata": {},
   "outputs": [],
   "source": [
    "url = 'https://www.googleapis.com/youtube/v3/channels' +\\\n",
    "    '?id=UCl1RVJbkPnpNbO9-CsDqPmQ' +\\\n",
    "    '&key='+YT_token  +\\\n",
    "    '&part=statistics'\n",
    "try:\n",
    "    while True:\n",
    "        start_time = time.time()\n",
    "        r = requests.get(url)\n",
    "        bot_text = '【今天的小遙】\\n訂閱數：{:,}\\n影片數：{:,}\\n總播放次數：{:,}'\\\n",
    "            .format(int(r.json()['items'][0]['statistics']['subscriberCount']),\n",
    "                    int(r.json()['items'][0]['statistics']['videoCount']),\n",
    "                    int(r.json()['items'][0]['statistics']['viewCount']))\n",
    "        Bot_Message('test_api', bot_text)\n",
    "        time.sleep(86400-(time.time() - start_time))\n",
    "    \n",
    "except:\n",
    "    Bot_Message('spider_status', '小遙觀察日報因錯誤終止執行。')"
   ]
  },
  {
   "cell_type": "code",
   "execution_count": null,
   "metadata": {},
   "outputs": [],
   "source": []
  }
 ],
 "metadata": {
  "kernelspec": {
   "display_name": "Python 3",
   "language": "python",
   "name": "python3"
  },
  "language_info": {
   "codemirror_mode": {
    "name": "ipython",
    "version": 3
   },
   "file_extension": ".py",
   "mimetype": "text/x-python",
   "name": "python",
   "nbconvert_exporter": "python",
   "pygments_lexer": "ipython3",
   "version": "3.8.3"
  }
 },
 "nbformat": 4,
 "nbformat_minor": 4
}
