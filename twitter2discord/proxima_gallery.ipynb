{
 "cells": [
  {
   "cell_type": "markdown",
   "id": "powered-syndrome",
   "metadata": {},
   "source": [
    "# Main"
   ]
  },
  {
   "cell_type": "code",
   "execution_count": null,
   "id": "spectacular-reunion",
   "metadata": {
    "scrolled": true
   },
   "outputs": [],
   "source": [
    "import os\n",
    "import requests\n",
    "import json\n",
    "import time\n",
    "from datetime import datetime\n",
    "from datetime import timedelta\n",
    "from dotenv import load_dotenv\n",
    "\n",
    "load_dotenv()\n",
    "twitter_token = os.getenv(\"TWITTER_TOKEN\")\n",
    "proxima_webhook = os.getenv(\"PROXIMA_GALLERY\")\n",
    "\n",
    "de_time = datetime.utcnow().strftime('%Y-%m-%dT%H:%M:%SZ')\n",
    "query_str = '(%23遙的繪本 OR %23萊菈art) -is:retweet'"
   ]
  },
  {
   "cell_type": "code",
   "execution_count": null,
   "id": "improved-posting",
   "metadata": {
    "scrolled": true
   },
   "outputs": [
    {
     "name": "stdout",
     "output_type": "stream",
     "text": [
      "【use】 2021-04-21T09:34:49Z\n",
      "https://twitter.com/proxima_gallery/status/1385217436627005448\n",
      "【新創作】 datetime： 2021-04-22T13:02:27.000Z\n",
      "de_time = 2021-04-22T13:02:28Z\n",
      "https://twitter.com/proxima_gallery/status/1385625627332513792\n",
      "【新創作】 datetime： 2021-04-23T16:04:27.000Z\n",
      "de_time = 2021-04-23T16:04:28Z\n",
      "https://twitter.com/proxima_gallery/status/1385892584673878016\n",
      "【新創作】 datetime： 2021-04-24T09:45:15.000Z\n",
      "de_time = 2021-04-24T09:45:16Z\n",
      "https://twitter.com/proxima_gallery/status/1386353062936154114\n",
      "【新創作】 datetime： 2021-04-25T16:15:02.000Z\n",
      "de_time = 2021-04-25T16:15:03Z\n",
      "https://twitter.com/proxima_gallery/status/1386631037686456327\n",
      "【新創作】 datetime： 2021-04-26T10:39:36.000Z\n",
      "de_time = 2021-04-26T10:39:37Z\n",
      "【use】 2021-04-26T10:39:37Z\n",
      "【use】 2021-04-26T10:39:37Z\n",
      "【use】 2021-04-26T10:39:37Z\n",
      "【use】 2021-04-26T10:39:37Z\n",
      "【use】 2021-04-26T10:39:37Z\n"
     ]
    }
   ],
   "source": [
    "def twitter_request(time=de_time, query_str=query_str, twitter_token=twitter_token):\n",
    "    url = 'https://api.twitter.com/2/tweets/search/recent?query='+query_str+\\\n",
    "    '&start_time='+time+\\\n",
    "    '&tweet.fields=created_at&expansions=author_id&user.fields=name'\n",
    "    \n",
    "    headers = {\n",
    "        \"Authorization\": \"Bearer {}\".format(twitter_token)\n",
    "    }\n",
    "    return requests.get(url, headers=headers).json()\n",
    "\n",
    "def discord_webhook(text_message, webhook_url=proxima_webhook):\n",
    "    headers = {\n",
    "        'Content-Type': 'application/json'\n",
    "    }\n",
    "    payload = {\n",
    "        \"content\": text_message\n",
    "    }\n",
    "    return requests.post(webhook_url, data=json.dumps(payload), headers=headers)\n",
    "\n",
    "def datetimePLUS1(time_str):\n",
    "    return (datetime.strptime(time_str[:-5], '%Y-%m-%dT%H:%M:%S') + timedelta(seconds=1)).strftime('%Y-%m-%dT%H:%M:%SZ')\n",
    "\n",
    "if __name__=='__main__':\n",
    "    while True:\n",
    "        try:\n",
    "            result = twitter_request(de_time)\n",
    "            if 'data' in result:\n",
    "                for i in range(len(result['data'])-1, -1, -1):\n",
    "                    temp_time = result['data'][i]['created_at']\n",
    "                    discord_webhook('https://twitter.com/proxima_gallery/status/'+result['data'][i]['id'])\n",
    "                    print('【新創作】 datetime： '+temp_time)\n",
    "                    de_time = datetimePLUS1(temp_time)\n",
    "            else:\n",
    "                pass\n",
    "            time.sleep(10) #limited by 450 requests per 15-minute window (app auth)\n",
    "        except:\n",
    "            print(\"Something Warning\")"
   ]
  },
  {
   "cell_type": "code",
   "execution_count": null,
   "id": "potential-opportunity",
   "metadata": {},
   "outputs": [],
   "source": []
  }
 ],
 "metadata": {
  "kernelspec": {
   "display_name": "Python 3",
   "language": "python",
   "name": "python3"
  },
  "language_info": {
   "codemirror_mode": {
    "name": "ipython",
    "version": 3
   },
   "file_extension": ".py",
   "mimetype": "text/x-python",
   "name": "python",
   "nbconvert_exporter": "python",
   "pygments_lexer": "ipython3",
   "version": "3.8.3"
  }
 },
 "nbformat": 4,
 "nbformat_minor": 5
}
