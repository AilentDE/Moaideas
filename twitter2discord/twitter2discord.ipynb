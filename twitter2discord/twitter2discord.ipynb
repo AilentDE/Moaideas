{
 "cells": [
  {
   "cell_type": "code",
   "execution_count": null,
   "id": "spectacular-reunion",
   "metadata": {},
   "outputs": [],
   "source": [
    "import os\n",
    "import requests\n",
    "import json\n",
    "import time\n",
    "from datetime import datetime\n",
    "from datetime import timedelta\n",
    "# from dotenv import load_dotenv\n",
    "# load_dotenv()\n",
    "\n",
    "twitter_token = os.getenv(\"TWITTER_TOKEN\")\n",
    "webhook = os.getenv(\"WEBHOOK\")\n",
    "member_name = os.getenv(\"MEMBER_NAME\")\n",
    "member_id = os.getenv(\"MEMBER_ID\")\n",
    "check_time = datetime.utcnow().strftime('%Y-%m-%dT%H:%M:%SZ')"
   ]
  },
  {
   "cell_type": "code",
   "execution_count": null,
   "id": "improved-posting",
   "metadata": {
    "scrolled": true
   },
   "outputs": [],
   "source": [
    "def twitter_request(time, tid, twitter_token=twitter_token):\n",
    "    url = 'https://api.twitter.com/2/users/'+tid+\\\n",
    "    '/tweets?start_time='+time+\\\n",
    "    '&tweet.fields=created_at&exclude=retweets,replies'\n",
    "    \n",
    "    headers = {\n",
    "        \"Authorization\": \"Bearer {}\".format(twitter_token)\n",
    "    }\n",
    "    return requests.get(url, headers=headers).json()\n",
    "\n",
    "def discord_webhook(text_message, webhook_url):\n",
    "    headers = {\n",
    "        'Content-Type': 'application/json'\n",
    "    }\n",
    "    payload = {\n",
    "        \"content\": text_message\n",
    "    }\n",
    "    return requests.post(webhook_url, data=json.dumps(payload), headers=headers)\n",
    "\n",
    "def datetimePLUS1(time_str):\n",
    "    return (datetime.strptime(time_str[:-5], '%Y-%m-%dT%H:%M:%S') + timedelta(seconds=1)).strftime('%Y-%m-%dT%H:%M:%SZ')\n",
    "\n",
    "if __name__=='__main__':\n",
    "    while True:\n",
    "        try:\n",
    "            result = twitter_request(check_time, member_id)\n",
    "            if 'data' in result:\n",
    "                for i in range(len(result['data'])-1, -1, -1):\n",
    "                    temp_time = result['data'][i]['created_at']\n",
    "                    discord_webhook('https://twitter.com/'+member_name+'/status/'+result['data'][i]['id'], webhook)\n",
    "                    print('【新通知！】 datetime： '+temp_time)\n",
    "                    check_time = datetimePLUS1(temp_time)\n",
    "            else:\n",
    "                pass\n",
    "\n",
    "            time.sleep(5) #limited by 900 request / 15 min\n",
    "        except ValueError:\n",
    "            print('[{}] WRONG JSONDECODE'.format(datetime.now().strftime('%Y-%m-%dT%H:%M:%SZ')))\n",
    "            time.sleep(5)\n",
    "        except:\n",
    "            print('[{}] Other WRONG'.format(datetime.now().strftime('%Y-%m-%dT%H:%M:%SZ')))\n",
    "            time.sleep(5)"
   ]
  },
  {
   "cell_type": "code",
   "execution_count": null,
   "id": "packed-bloom",
   "metadata": {},
   "outputs": [],
   "source": []
  }
 ],
 "metadata": {
  "kernelspec": {
   "display_name": "Python 3",
   "language": "python",
   "name": "python3"
  },
  "language_info": {
   "codemirror_mode": {
    "name": "ipython",
    "version": 3
   },
   "file_extension": ".py",
   "mimetype": "text/x-python",
   "name": "python",
   "nbconvert_exporter": "python",
   "pygments_lexer": "ipython3",
   "version": "3.8.3"
  }
 },
 "nbformat": 4,
 "nbformat_minor": 5
}
