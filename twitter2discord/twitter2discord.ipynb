{
 "cells": [
  {
   "cell_type": "markdown",
   "id": "powered-syndrome",
   "metadata": {},
   "source": [
    "# Main"
   ]
  },
  {
   "cell_type": "code",
   "execution_count": null,
   "id": "spectacular-reunion",
   "metadata": {},
   "outputs": [],
   "source": [
    "import os\n",
    "import requests\n",
    "import json\n",
    "import time\n",
    "from datetime import datetime\n",
    "from datetime import timedelta\n",
    "from dotenv import load_dotenv\n",
    "\n",
    "load_dotenv()\n",
    "twitter_token = os.getenv(\"TWITTER_TOKEN\")\n",
    "haruka_webhook = os.getenv(\"HARUKA_WEBHOOK\")\n",
    "lyra_webhook = os.getenv(\"LYRA_WEBHOOK\")\n",
    "haruka_id = os.getenv(\"HARUKA_ID\")\n",
    "lyra_id = os.getenv(\"LYRA_ID\")\n",
    "\n",
    "\n",
    "haruka_time = datetime.utcnow().strftime('%Y-%m-%dT%H:%M:%SZ')\n",
    "lyra_time = datetime.utcnow().strftime('%Y-%m-%dT%H:%M:%SZ')"
   ]
  },
  {
   "cell_type": "code",
   "execution_count": null,
   "id": "improved-posting",
   "metadata": {
    "scrolled": true
   },
   "outputs": [],
   "source": [
    "def twitter_request(time, tid, twitter_token=twitter_token):\n",
    "    url = 'https://api.twitter.com/2/users/'+tid+\\\n",
    "    '/tweets?start_time='+time+\\\n",
    "    '&tweet.fields=created_at&exclude=retweets,replies'\n",
    "    \n",
    "    headers = {\n",
    "        \"Authorization\": \"Bearer {}\".format(twitter_token)\n",
    "    }\n",
    "    return requests.get(url, headers=headers).json()\n",
    "\n",
    "def discord_webhook(text_message, webhook_url):\n",
    "    headers = {\n",
    "        'Content-Type': 'application/json'\n",
    "    }\n",
    "    payload = {\n",
    "        \"content\": text_message\n",
    "    }\n",
    "    return requests.post(webhook_url, data=json.dumps(payload), headers=headers)\n",
    "\n",
    "def datetimePLUS1(time_str):\n",
    "    return (datetime.strptime(time_str[:-5], '%Y-%m-%dT%H:%M:%S') + timedelta(seconds=1)).strftime('%Y-%m-%dT%H:%M:%SZ')\n",
    "\n",
    "if __name__=='__main__':\n",
    "    try:\n",
    "        while True:\n",
    "            # Haruka check\n",
    "            result = twitter_request(haruka_time, haruka_id)\n",
    "            if 'data' in result:\n",
    "                for i in range(len(result['data'])-1, -1, -1):\n",
    "                    temp_time = result['data'][i]['created_at']\n",
    "                    discord_webhook('@haruka_owl https://twitter.com/haruka_owl/status/'+result['data'][i]['id'], haruka_webhook)\n",
    "                    print('【小遙發送了推文】 datetime： '+temp_time)\n",
    "                    haruka_time = datetimePLUS1(temp_time)\n",
    "            else:\n",
    "                pass\n",
    "\n",
    "            # lyra check\n",
    "            result = twitter_request(lyra_time, lyra_id)\n",
    "            if 'data' in result:\n",
    "                for i in range(len(result['data'])-1, -1, -1):\n",
    "                    temp_time = result['data'][i]['created_at']\n",
    "                    discord_webhook('@cygnus_lyra https://twitter.com/cygnus_lyra/status/'+result['data'][i]['id'], lyra_webhook)\n",
    "                    print('【萊菈發送了推文】 datetime： '+temp_time)\n",
    "                    lyra_time = datetimePLUS1(temp_time)\n",
    "            else:\n",
    "                pass\n",
    "\n",
    "            time.sleep(1) #limited by 900 request / 15 min\n",
    "    except:\n",
    "        print('[{}] WRONG JSONDECODE'.format(datetime.now().strftime('%Y-%m-%dT%H:%M:%SZ')))"
   ]
  },
  {
   "cell_type": "code",
   "execution_count": null,
   "id": "packed-bloom",
   "metadata": {},
   "outputs": [],
   "source": []
  }
 ],
 "metadata": {
  "kernelspec": {
   "display_name": "Python 3",
   "language": "python",
   "name": "python3"
  },
  "language_info": {
   "codemirror_mode": {
    "name": "ipython",
    "version": 3
   },
   "file_extension": ".py",
   "mimetype": "text/x-python",
   "name": "python",
   "nbconvert_exporter": "python",
   "pygments_lexer": "ipython3",
   "version": "3.8.3"
  }
 },
 "nbformat": 4,
 "nbformat_minor": 5
}
