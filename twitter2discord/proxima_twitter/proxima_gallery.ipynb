{
 "cells": [
  {
   "cell_type": "markdown",
   "id": "powered-syndrome",
   "metadata": {},
   "source": [
    "# Main"
   ]
  },
  {
   "cell_type": "code",
   "execution_count": null,
   "id": "spectacular-reunion",
   "metadata": {
    "scrolled": true
   },
   "outputs": [],
   "source": [
    "import os\n",
    "import requests\n",
    "import json\n",
    "import time\n",
    "from datetime import datetime\n",
    "from datetime import timedelta\n",
    "\n",
    "# from dotenv import load_dotenv\n",
    "# load_dotenv()\n",
    "\n",
    "twitter_token = os.getenv(\"TWITTER_TOKEN\")\n",
    "sub_token = os.getenv('SUB_TOKEN')\n",
    "webhook = os.getenv(\"WEBHOOK\")\n",
    "query_str = os.getenv(\"QUERY_STR\")\n",
    "print(query_str)\n",
    "check_time = datetime.utcnow().strftime('%Y-%m-%dT%H:%M:%SZ')"
   ]
  },
  {
   "cell_type": "code",
   "execution_count": null,
   "id": "improved-posting",
   "metadata": {
    "scrolled": true
   },
   "outputs": [],
   "source": [
    "def twitter_request(time=check_time, query_str=query_str, twitter_token=twitter_token):\n",
    "    url = 'https://api.twitter.com/2/tweets/search/recent?query='+query_str+\\\n",
    "    '&start_time='+time+\\\n",
    "    '&tweet.fields=created_at&expansions=author_id&user.fields=name'\n",
    "    \n",
    "    headers = {\n",
    "        \"Authorization\": \"Bearer {}\".format(twitter_token)\n",
    "    }\n",
    "    return requests.get(url, headers=headers, timeout=5).json()\n",
    "\n",
    "def discord_webhook(text_message, webhook_url=webhook):\n",
    "    headers = {\n",
    "        'Content-Type': 'application/json'\n",
    "    }\n",
    "    payload = {\n",
    "        \"content\": text_message\n",
    "    }\n",
    "    return requests.post(webhook_url, data=json.dumps(payload), headers=headers, timeout=5)\n",
    "\n",
    "def datetimePLUS1(time_str):\n",
    "    return (datetime.strptime(time_str[:-5], '%Y-%m-%dT%H:%M:%S') + timedelta(seconds=1)).strftime('%Y-%m-%dT%H:%M:%SZ')\n",
    "\n",
    "def find_author_name(author_id, twitter_token=sub_token):\n",
    "    url = 'https://api.twitter.com/2/users/'+author_id\n",
    "\n",
    "    headers = {\n",
    "        \"Authorization\": \"Bearer {}\".format(twitter_token)\n",
    "    }\n",
    "    return requests.get(url, headers=headers, timeout=5).json()['data']['username']\n",
    "\n",
    "if __name__=='__main__':\n",
    "    while True:\n",
    "        try:\n",
    "            result = twitter_request(check_time)\n",
    "            if 'data' in result:\n",
    "                for i in range(len(result['data'])-1, -1, -1):\n",
    "                    temp_time = result['data'][i]['created_at']\n",
    "                    author_name = find_author_name(result['data'][i]['author_id'])\n",
    "                    discord_webhook('https://twitter.com/'+author_name+'/status/'+result['data'][i]['id']) # 新增本名查詢\n",
    "                    print('【NEWS】 datetime： '+temp_time)\n",
    "                    check_time = datetimePLUS1(temp_time)\n",
    "            else:\n",
    "                pass\n",
    "            time.sleep(10) #limited by 450 requests per 15-minute window (app auth)\n",
    "        except ValueError as e:\n",
    "            print('[{}] WRONG JSONDECODE: {}'.format(datetime.now().strftime('%Y-%m-%dT%H:%M:%SZ'), e))\n",
    "            time.sleep(5)\n",
    "        except Exception as e:\n",
    "            print('[{}] Other WRONG: {}'.format(datetime.now().strftime('%Y-%m-%dT%H:%M:%SZ'), e))\n",
    "            time.sleep(5)"
   ]
  },
  {
   "cell_type": "code",
   "execution_count": null,
   "id": "potential-opportunity",
   "metadata": {},
   "outputs": [],
   "source": []
  }
 ],
 "metadata": {
  "kernelspec": {
   "display_name": "Python 3",
   "language": "python",
   "name": "python3"
  },
  "language_info": {
   "codemirror_mode": {
    "name": "ipython",
    "version": 3
   },
   "file_extension": ".py",
   "mimetype": "text/x-python",
   "name": "python",
   "nbconvert_exporter": "python",
   "pygments_lexer": "ipython3",
   "version": "3.8.3"
  }
 },
 "nbformat": 4,
 "nbformat_minor": 5
}
