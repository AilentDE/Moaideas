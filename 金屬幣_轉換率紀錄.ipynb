{
 "cells": [
  {
   "cell_type": "code",
   "execution_count": null,
   "id": "fitting-letters",
   "metadata": {},
   "outputs": [],
   "source": [
    "from selenium import webdriver\n",
    "from selenium.webdriver.common.keys import Keys\n",
    "from bs4 import BeautifulSoup\n",
    "from datetime import datetime\n",
    "import pandas as pd\n",
    "import time\n",
    "import os"
   ]
  },
  {
   "cell_type": "code",
   "execution_count": null,
   "id": "handed-exhibit",
   "metadata": {},
   "outputs": [],
   "source": [
    "if __name__ == \"__main__\":\n",
    "    acc = input('username：')\n",
    "    key = input('password：')\n",
    "    \n",
    "    driver = webdriver.Chrome('/home/moaideas/chromedriver')\n",
    "    driver.get('https://www.kickstarter.com/projects/moaideas/steel-n-steam-hexagonal-metal-coins-for-train-games/dashboard?ref=creator_nav')\n",
    "    driver.find_element_by_id('user_session_email').send_keys(acc)\n",
    "    driver.find_element_by_id('user_session_password').send_keys(key)\n",
    "    driver.find_element_by_name('commit').click()\n",
    "    str_time = datetime.now().strftime('%Y-%m-%d %H:%M:%S')\n",
    "    \n",
    "    while True:\n",
    "        if os.path.isfile('火車幣轉換率紀錄_savedata.xlsx'):\n",
    "            data = pd.read_excel('火車幣轉換率紀錄_savedata.xlsx')\n",
    "        else:\n",
    "            data = pd.DataFrame([], columns=['時間', '專案跟隨者', '轉換的跟隨者', '轉換率'])\n",
    "\n",
    "        value = [str_time]\n",
    "        key = ['時間']\n",
    "        for x in driver.find_element_by_id('stats-remind-me').find_elements_by_class_name('w25'):\n",
    "            temp = x.text.split('\\n')\n",
    "            key.append(temp[1])\n",
    "            value.append(temp[0])\n",
    "        temp = pd.DataFrame([value], columns=key)\n",
    "        data = data.append(temp)\n",
    "\n",
    "        data.to_excel('火車幣轉換率紀錄_savedata.xlsx', index=False)\n",
    "        del data\n",
    "        time.sleep(3600)\n",
    "        driver.refresh()\n",
    "        str_time = datetime.now().strftime('%Y-%m-%d %H:%M:%S')"
   ]
  },
  {
   "cell_type": "code",
   "execution_count": null,
   "id": "executive-groove",
   "metadata": {},
   "outputs": [],
   "source": []
  }
 ],
 "metadata": {
  "kernelspec": {
   "display_name": "Python 3",
   "language": "python",
   "name": "python3"
  },
  "language_info": {
   "codemirror_mode": {
    "name": "ipython",
    "version": 3
   },
   "file_extension": ".py",
   "mimetype": "text/x-python",
   "name": "python",
   "nbconvert_exporter": "python",
   "pygments_lexer": "ipython3",
   "version": "3.8.3"
  }
 },
 "nbformat": 4,
 "nbformat_minor": 5
}
