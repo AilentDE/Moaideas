{
 "cells": [
  {
   "cell_type": "code",
   "execution_count": 1,
   "metadata": {},
   "outputs": [],
   "source": [
    "import requests\n",
    "from bs4 import BeautifulSoup\n",
    "from datetime import datetime\n",
    "import time\n",
    "import json\n",
    "import os\n",
    "\n",
    "with open('../../Secret_file.json',\"r\") as f:\n",
    "    user = json.load(f)['User']\n",
    "\n",
    "driver = requests.session()"
   ]
  },
  {
   "cell_type": "markdown",
   "metadata": {},
   "source": [
    "### 取得登入token"
   ]
  },
  {
   "cell_type": "code",
   "execution_count": 2,
   "metadata": {},
   "outputs": [],
   "source": [
    "a = driver.get(' https://www.kickstarter.com/login?then=%2Fprojects%2Fmoaideas%2Fsteel-n-steam-hexagonal-metal-coins-for-train-games%2Fdashboard')\n",
    "soup = BeautifulSoup(a.text, 'html5lib')\n",
    "token = soup.select_one('input[name=\"authenticity_token\"]')['value']"
   ]
  },
  {
   "cell_type": "markdown",
   "metadata": {},
   "source": [
    "### 登入"
   ]
  },
  {
   "cell_type": "code",
   "execution_count": 3,
   "metadata": {},
   "outputs": [
    {
     "data": {
      "text/plain": [
       "[<p class=\"w25 mr1\">\n",
       " <span class=\"block type-38 soft-black bold\">709</span>\n",
       " <span class=\"block type-14 bold dark-grey-400\">Project Followers</span>\n",
       " </p>,\n",
       " <p class=\"w25 mr1\">\n",
       " <span class=\"block type-38 soft-black bold\">40</span>\n",
       " <span class=\"block type-14 bold dark-grey-400\">Converted Followers</span>\n",
       " </p>,\n",
       " <p class=\"w25\">\n",
       " <span class=\"block type-38 soft-black bold\">5%</span>\n",
       " <span class=\"block type-14 bold dark-grey-400\">Conversion Rate</span>\n",
       " </p>]"
      ]
     },
     "execution_count": 3,
     "metadata": {},
     "output_type": "execute_result"
    }
   ],
   "source": [
    "payloads = {\n",
    "    'utf8': '✓',\n",
    "    'authenticity_token': token,\n",
    "    'ref': '',\n",
    "    'project_pid': '',\n",
    "    'source': 'login',\n",
    "    'then': '/projects/moaideas/steel-n-steam-hexagonal-metal-coins-for-train-games/dashboard',\n",
    "    'user_session[email]': user['acc'],\n",
    "    'user_session[password]': user['key'],\n",
    "    'commit': '登入',\n",
    "    'user_session[remember_me]': '0',\n",
    "    'user_session[remember_me]': '1'\n",
    "}\n",
    "b = driver.post('https://www.kickstarter.com/user_sessions', data=payloads)\n",
    "soup = BeautifulSoup(b.text, 'html5lib')\n",
    "soup.select('p.w25')"
   ]
  },
  {
   "cell_type": "markdown",
   "metadata": {},
   "source": [
    "### 確認持續使用"
   ]
  },
  {
   "cell_type": "code",
   "execution_count": 4,
   "metadata": {},
   "outputs": [
    {
     "data": {
      "text/plain": [
       "[<p class=\"w25 mr1\">\n",
       " <span class=\"block type-38 soft-black bold\">709</span>\n",
       " <span class=\"block type-14 bold dark-grey-400\">Project Followers</span>\n",
       " </p>,\n",
       " <p class=\"w25 mr1\">\n",
       " <span class=\"block type-38 soft-black bold\">40</span>\n",
       " <span class=\"block type-14 bold dark-grey-400\">Converted Followers</span>\n",
       " </p>,\n",
       " <p class=\"w25\">\n",
       " <span class=\"block type-38 soft-black bold\">5%</span>\n",
       " <span class=\"block type-14 bold dark-grey-400\">Conversion Rate</span>\n",
       " </p>]"
      ]
     },
     "execution_count": 4,
     "metadata": {},
     "output_type": "execute_result"
    }
   ],
   "source": [
    "c = driver.get('https://www.kickstarter.com/projects/moaideas/steel-n-steam-hexagonal-metal-coins-for-train-games/dashboard')\n",
    "soup = BeautifulSoup(c.text, 'html5lib')\n",
    "soup.select('p.w25')"
   ]
  },
  {
   "cell_type": "code",
   "execution_count": null,
   "metadata": {},
   "outputs": [],
   "source": []
  }
 ],
 "metadata": {
  "kernelspec": {
   "display_name": "Python 3",
   "language": "python",
   "name": "python3"
  },
  "language_info": {
   "codemirror_mode": {
    "name": "ipython",
    "version": 3
   },
   "file_extension": ".py",
   "mimetype": "text/x-python",
   "name": "python",
   "nbconvert_exporter": "python",
   "pygments_lexer": "ipython3",
   "version": "3.8.3"
  }
 },
 "nbformat": 4,
 "nbformat_minor": 2
}
