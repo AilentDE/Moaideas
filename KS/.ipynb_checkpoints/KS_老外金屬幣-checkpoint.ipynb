{
 "cells": [
  {
   "cell_type": "code",
   "execution_count": 1,
   "metadata": {},
   "outputs": [],
   "source": [
    "import json\n",
    "import requests\n",
    "from bs4 import BeautifulSoup\n",
    "import time\n",
    "from datetime import datetime\n",
    "import pandas as pd\n",
    "import os\n",
    "\n",
    "with open('../Secret_file.json',\"r\") as f:\n",
    "    ks_token = json.load(f)['Slack_API']['KS']"
   ]
  },
  {
   "cell_type": "code",
   "execution_count": null,
   "metadata": {},
   "outputs": [],
   "source": [
    "def Bot_Message(channel, text):\n",
    "    payload={\n",
    "        \"token\":ks_token,\n",
    "        \"channel\":channel,\n",
    "        \"text\":'{}'.format(text)} \n",
    "    r = requests.post(\"https://slack.com/api/chat.postMessage\", params=payload) "
   ]
  },
  {
   "cell_type": "code",
   "execution_count": null,
   "metadata": {},
   "outputs": [],
   "source": [
    "yesterday = datetime.now().day\n",
    "\n",
    "check_point = 0\n",
    "while check_point <6:\n",
    "    try:\n",
    "        start_time = time.time()\n",
    "        today = datetime.now()\n",
    "        \n",
    "        #token_page\n",
    "        r = requests.get('https://www.kickstarter.com/discover/advanced?state=upcoming&category_id=34&woe_id=1118370')\n",
    "        soup = BeautifulSoup(r.text, 'html5lib')\n",
    "        token = soup.find('meta', attrs={'name':'csrf-token'})['content']\n",
    "        cookies = r.cookies['_ksr_session']\n",
    "\n",
    "        #detail_page\n",
    "        url = 'https://www.kickstarter.com/graph'\n",
    "        payload = {\"operationName\":\"PrelaunchPage\",\n",
    "                   \"variables\":{\"slug\":\"moaideas/steel-n-steam-hexagonal-metal-coins-for-train-games\"},\n",
    "                   \"query\":\"query PrelaunchPage($slug: String!) {\\n  me {\\n    id\\n    isKsrAdmin\\n    __typename\\n  }\\n  project(slug: $slug) {\\n    id\\n    name\\n    location {\\n      discoverUrl\\n      displayableName\\n      countryName\\n      __typename\\n    }\\n    state\\n    description\\n    url\\n    imageUrl(width: 1000)\\n    prelaunchActivated\\n    isWatched\\n    watchesCount\\n    category {\\n      url\\n      name\\n      parentCategory {\\n        name\\n        __typename\\n      }\\n      __typename\\n    }\\n    verifiedIdentity\\n    creator {\\n      id\\n      name\\n      slug\\n      hasImage\\n      imageUrl(width: 48)\\n      url\\n      biography\\n      backingsCount\\n      isFacebookConnected\\n      lastLogin\\n      websites {\\n        url\\n        domain\\n        __typename\\n      }\\n      launchedProjects {\\n        totalCount\\n        __typename\\n      }\\n      location {\\n        displayableName\\n        __typename\\n      }\\n      __typename\\n    }\\n    collaborators {\\n      edges {\\n        node {\\n          name\\n          url\\n          imageUrl(width: 48)\\n          __typename\\n        }\\n        title\\n        __typename\\n      }\\n      __typename\\n    }\\n    __typename\\n  }\\n}\\n\"}\n",
    "        headers = {'content-type': 'application/json',\n",
    "                   'cookie':'_ksr_session={}'.format(cookies),\n",
    "                   'x-csrf-token': '{}'.format(token)}\n",
    "        rp = requests.post(url, data=json.dumps(payload), headers=headers)\n",
    "        count = rp.json()['data']['project']['watchesCount']\n",
    "        df = pd.DataFrame([(today.strftime('%Y/%m/%d %H:%M'),count)], columns=['time', 'follow_count'])\n",
    "        \n",
    "        if os.path.exists('../../save_data/KS/老外金屬幣紀錄.csv'):\n",
    "            data = pd.read_csv('../../save_data/KS/老外金屬幣紀錄.csv')\n",
    "            data = data.append(df)\n",
    "            data.to_csv('../../save_data/KS/老外金屬幣紀錄.csv', index=False)\n",
    "            del data\n",
    "        else:\n",
    "            df.to_csv('../../save_data/KS/老外金屬幣紀錄.csv', index=False)\n",
    "        \n",
    "        if today.weekday() != 0:\n",
    "            pass\n",
    "        elif today.hour != 9:\n",
    "            pass\n",
    "        else:\n",
    "            Bot_Message('data_analysis', '{}\\n火車幣目前Follow人數：{:,}'.format(today.strftime('%Y/%m/%d'), count))\n",
    "        \n",
    "        time.sleep(3600-(time.time() - start_time))\n",
    "    except:\n",
    "        check_point += 1\n",
    "        Bot_Message('spider_status', '【警告】\\nKS_老外金屬幣專案發生錯誤({}/{})。'.format(check_point, 6))\n",
    "        time.sleep(5)"
   ]
  },
  {
   "cell_type": "code",
   "execution_count": null,
   "metadata": {},
   "outputs": [],
   "source": []
  }
 ],
 "metadata": {
  "kernelspec": {
   "display_name": "Python 3",
   "language": "python",
   "name": "python3"
  },
  "language_info": {
   "codemirror_mode": {
    "name": "ipython",
    "version": 3
   },
   "file_extension": ".py",
   "mimetype": "text/x-python",
   "name": "python",
   "nbconvert_exporter": "python",
   "pygments_lexer": "ipython3",
   "version": "3.8.3"
  }
 },
 "nbformat": 4,
 "nbformat_minor": 4
}
