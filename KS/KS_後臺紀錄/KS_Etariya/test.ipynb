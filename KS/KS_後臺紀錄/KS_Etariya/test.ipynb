{
 "cells": [
  {
   "cell_type": "code",
   "execution_count": 1,
   "metadata": {},
   "outputs": [],
   "source": [
    "EMAIL = 'cameronqoo@gmail.com'\n",
    "PASS = 'ailent32123'"
   ]
  },
  {
   "cell_type": "code",
   "execution_count": 2,
   "metadata": {},
   "outputs": [],
   "source": [
    "import undetected_chromedriver as uc \n",
    "import time \n",
    " \n",
    "driver = uc.Chrome(use_subprocess=True) \n",
    "driver.get(\"https://www.kickstarter.com/login?then=/projects/moaideas/board-game-invitation-to-etariya-island/dashboard?ref=creator-nav\") \n",
    "driver.maximize_window()\n",
    "input('===PASS ANY KEY TO CONTINUE===')"
   ]
  },
  {
   "cell_type": "code",
   "execution_count": null,
   "metadata": {},
   "outputs": [],
   "source": [
    "driver.find_element(uc.By.ID, 'user_session_email').send_keys(EMAIL)\n",
    "driver.find_element(uc.By.ID, 'user_session_password').send_keys(PASS)\n",
    "driver.find_element(uc.By.NAME, 'commit').submit()"
   ]
  },
  {
   "cell_type": "code",
   "execution_count": 3,
   "metadata": {},
   "outputs": [],
   "source": [
    "import sqlite3\n",
    "from datetime import datetime\n",
    "con = sqlite3.connect('./ks.db')"
   ]
  },
  {
   "cell_type": "code",
   "execution_count": 4,
   "metadata": {},
   "outputs": [
    {
     "data": {
      "text/plain": [
       "<sqlite3.Cursor at 0x17a3f3a4e40>"
      ]
     },
     "execution_count": 4,
     "metadata": {},
     "output_type": "execute_result"
    }
   ],
   "source": [
    "cur = con.cursor()\n",
    "cur.execute(\"CREATE TABLE IF NOT EXISTS etariya(total, buyer, follow, covered, datetime)\")"
   ]
  },
  {
   "cell_type": "code",
   "execution_count": 34,
   "metadata": {},
   "outputs": [],
   "source": [
    "data = (\n",
    "    driver.find_element(uc.By.CSS_SELECTOR, '.stats-numbers').find_elements(uc.By.TAG_NAME, 'h1')[0].text,\n",
    "    driver.find_element(uc.By.CSS_SELECTOR, '.stats-numbers').find_elements(uc.By.TAG_NAME, 'h1')[2].text,\n",
    "    driver.find_elements(uc.By.CSS_SELECTOR, '.w25p.mr1.mb2.mb0-md')[0].text.split('\\n')[0],\n",
    "    driver.find_elements(uc.By.CSS_SELECTOR, '.w25p.mr1.mb2.mb0-md')[1].text.split('\\n')[0],\n",
    "    datetime.now()\n",
    ")\n",
    "cur.execute(\"INSERT INTO etariya VALUES(?, ?, ?, ?, ?)\", data)\n",
    "con.commit()\n",
    "con.close()"
   ]
  },
  {
   "cell_type": "code",
   "execution_count": 36,
   "metadata": {},
   "outputs": [],
   "source": [
    "driver.refresh()"
   ]
  },
  {
   "cell_type": "code",
   "execution_count": 35,
   "metadata": {},
   "outputs": [],
   "source": [
    "driver.find_element(uc.By.CSS_SELECTOR, '.bttn.bttn-medium.bttn-secondary.fill-bttn-icon.hover-fill-bttn-icon.keyboard-focusable').click()"
   ]
  },
  {
   "cell_type": "code",
   "execution_count": 13,
   "metadata": {},
   "outputs": [],
   "source": [
    "driver.close()"
   ]
  },
  {
   "cell_type": "code",
   "execution_count": null,
   "metadata": {},
   "outputs": [],
   "source": []
  }
 ],
 "metadata": {
  "kernelspec": {
   "display_name": "venv",
   "language": "python",
   "name": "python3"
  },
  "language_info": {
   "codemirror_mode": {
    "name": "ipython",
    "version": 3
   },
   "file_extension": ".py",
   "mimetype": "text/x-python",
   "name": "python",
   "nbconvert_exporter": "python",
   "pygments_lexer": "ipython3",
   "version": "3.10.9"
  },
  "orig_nbformat": 4
 },
 "nbformat": 4,
 "nbformat_minor": 2
}
